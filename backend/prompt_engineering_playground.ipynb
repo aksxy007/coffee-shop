{
 "cells": [
  {
   "cell_type": "code",
   "execution_count": 1,
   "metadata": {},
   "outputs": [
    {
     "name": "stdout",
     "output_type": "stream",
     "text": [
      "Package                   Version\n",
      "------------------------- -----------\n",
      "aiohttp                   3.9.5\n",
      "aiosignal                 1.3.1\n",
      "altair                    5.3.0\n",
      "annotated-types           0.6.0\n",
      "anyio                     4.3.0\n",
      "asttokens                 2.0.5\n",
      "async-timeout             4.0.3\n",
      "attrs                     23.2.0\n",
      "backcall                  0.2.0\n",
      "backoff                   2.2.1\n",
      "beautifulsoup4            4.12.3\n",
      "blinker                   1.7.0\n",
      "cachetools                5.3.3\n",
      "certifi                   2024.2.2\n",
      "cffi                      1.16.0\n",
      "chardet                   5.2.0\n",
      "charset-normalizer        3.3.2\n",
      "click                     8.1.7\n",
      "colorama                  0.4.6\n",
      "comm                      0.1.2\n",
      "dataclasses-json          0.6.4\n",
      "debugpy                   1.6.7\n",
      "decorator                 5.1.1\n",
      "deepdiff                  7.0.1\n",
      "distro                    1.9.0\n",
      "emoji                     2.11.1\n",
      "exceptiongroup            1.0.4\n",
      "executing                 0.8.3\n",
      "faiss-cpu                 1.8.0\n",
      "filelock                  3.13.4\n",
      "filetype                  1.2.0\n",
      "frozenlist                1.4.1\n",
      "fsspec                    2024.3.1\n",
      "gitdb                     4.0.11\n",
      "GitPython                 3.1.43\n",
      "greenlet                  3.0.3\n",
      "h11                       0.14.0\n",
      "httpcore                  1.0.5\n",
      "httpx                     0.27.0\n",
      "huggingface-hub           0.22.2\n",
      "idna                      3.7\n",
      "importlib-metadata        6.0.0\n",
      "intel-openmp              2021.4.0\n",
      "ipykernel                 6.25.0\n",
      "ipython                   8.15.0\n",
      "jedi                      0.18.1\n",
      "Jinja2                    3.1.3\n",
      "joblib                    1.4.0\n",
      "jsonpatch                 1.33\n",
      "jsonpath-python           1.0.6\n",
      "jsonpointer               2.4\n",
      "jsonschema                4.21.1\n",
      "jsonschema-specifications 2023.12.1\n",
      "jupyter_client            8.6.0\n",
      "jupyter_core              5.5.0\n",
      "langchain                 0.1.16\n",
      "langchain-community       0.0.34\n",
      "langchain-core            0.1.46\n",
      "langchain-openai          0.1.3\n",
      "langchain-text-splitters  0.0.1\n",
      "langdetect                1.0.9\n",
      "langsmith                 0.1.51\n",
      "lxml                      5.2.1\n",
      "markdown-it-py            3.0.0\n",
      "MarkupSafe                2.1.5\n",
      "marshmallow               3.21.1\n",
      "matplotlib-inline         0.1.6\n",
      "mdurl                     0.1.2\n",
      "mkl                       2021.4.0\n",
      "mpmath                    1.3.0\n",
      "multidict                 6.0.5\n",
      "mypy-extensions           1.0.0\n",
      "nest-asyncio              1.5.6\n",
      "networkx                  3.2.1\n",
      "nltk                      3.8.1\n",
      "numpy                     1.26.4\n",
      "openai                    1.23.6\n",
      "ordered-set               4.1.0\n",
      "orjson                    3.10.1\n",
      "outcome                   1.3.0.post0\n",
      "packaging                 23.2\n",
      "pandas                    2.2.2\n",
      "parso                     0.8.3\n",
      "pdf2image                 1.17.0\n",
      "pickleshare               0.7.5\n",
      "pillow                    10.3.0\n",
      "pip                       23.3.1\n",
      "platformdirs              3.10.0\n",
      "prompt-toolkit            3.0.36\n",
      "protobuf                  4.25.3\n",
      "psutil                    5.9.0\n",
      "pure-eval                 0.2.2\n",
      "pyarrow                   16.0.0\n",
      "pycparser                 2.22\n",
      "pydantic                  2.7.1\n",
      "pydantic_core             2.18.2\n",
      "pydeck                    0.9.0b1\n",
      "Pygments                  2.15.1\n",
      "pypdf                     4.2.0\n",
      "PySocks                   1.7.1\n",
      "pytesseract               0.3.10\n",
      "python-dateutil           2.8.2\n",
      "python-iso639             2024.2.7\n",
      "python-magic-bin          0.4.14\n",
      "pytz                      2024.1\n",
      "pywin32                   305.1\n",
      "PyYAML                    6.0.1\n",
      "pyzmq                     25.1.0\n",
      "rapidfuzz                 3.8.1\n",
      "referencing               0.35.0\n",
      "regex                     2024.4.16\n",
      "requests                  2.31.0\n",
      "rich                      13.7.1\n",
      "rpds-py                   0.18.0\n",
      "safetensors               0.4.3\n",
      "scikit-learn              1.4.2\n",
      "scipy                     1.13.0\n",
      "selenium                  4.20.0\n",
      "sentence-transformers     2.7.0\n",
      "setuptools                68.2.2\n",
      "six                       1.16.0\n",
      "smmap                     5.0.1\n",
      "sniffio                   1.3.1\n",
      "sortedcontainers          2.4.0\n",
      "soupsieve                 2.5\n",
      "SQLAlchemy                2.0.29\n",
      "stack-data                0.2.0\n",
      "streamlit                 1.33.0\n",
      "sympy                     1.12\n",
      "tabulate                  0.9.0\n",
      "tbb                       2021.12.0\n",
      "tenacity                  8.2.3\n",
      "threadpoolctl             3.4.0\n",
      "tiktoken                  0.6.0\n",
      "tokenizers                0.19.1\n",
      "toml                      0.10.2\n",
      "toolz                     0.12.1\n",
      "torch                     2.3.0\n",
      "tornado                   6.3.3\n",
      "tqdm                      4.66.2\n",
      "traitlets                 5.7.1\n",
      "transformers              4.40.1\n",
      "trio                      0.25.0\n",
      "trio-websocket            0.11.1\n",
      "typing_extensions         4.11.0\n",
      "typing-inspect            0.9.0\n",
      "tzdata                    2024.1\n",
      "unstructured              0.13.3\n",
      "unstructured-client       0.22.0\n",
      "urllib3                   2.2.1\n",
      "watchdog                  4.0.0\n",
      "wcwidth                   0.2.5\n",
      "wheel                     0.41.2\n",
      "wrapt                     1.16.0\n",
      "wsproto                   1.2.0\n",
      "yarl                      1.9.4\n",
      "zipp                      3.11.0\n"
     ]
    }
   ],
   "source": [
    "!pip list"
   ]
  },
  {
   "cell_type": "markdown",
   "metadata": {},
   "source": [
    "# Prompt Engineering Playground"
   ]
  },
  {
   "cell_type": "code",
   "execution_count": 81,
   "metadata": {},
   "outputs": [
    {
     "data": {
      "text/plain": [
       "True"
      ]
     },
     "execution_count": 81,
     "metadata": {},
     "output_type": "execute_result"
    }
   ],
   "source": [
    "from dotenv import load_dotenv\n",
    "import os\n",
    "import json\n",
    "from typing import List\n",
    "from langchain_community.embeddings import HuggingFaceBgeEmbeddings\n",
    "from sklearn.metrics.pairwise import cosine_similarity\n",
    "load_dotenv()\n"
   ]
  },
  {
   "cell_type": "code",
   "execution_count": null,
   "metadata": {},
   "outputs": [],
   "source": []
  },
  {
   "cell_type": "code",
   "execution_count": null,
   "metadata": {},
   "outputs": [],
   "source": [
    "from langchain_groq import ChatGroq\n",
    "\n",
    "llm = ChatGroq(\n",
    "    model=os.getenv(\"MODEL_NAME\"),\n",
    "    temperature=0,\n",
    "    max_tokens=2000,\n",
    "    timeout=None,\n",
    "    max_retries=2,\n",
    "    # other params...\n",
    ")"
   ]
  },
  {
   "cell_type": "code",
   "execution_count": 15,
   "metadata": {},
   "outputs": [
    {
     "data": {
      "text/plain": [
       "AIMessage(content='Je adore programmer.', additional_kwargs={}, response_metadata={'token_usage': {'completion_tokens': 5, 'prompt_tokens': 55, 'total_tokens': 60, 'completion_time': 0.006666667, 'prompt_time': 0.011249524, 'queue_time': 0.002200064, 'total_time': 0.017916191}, 'model_name': 'llama-3.1-8b-instant', 'system_fingerprint': 'fp_9cb648b966', 'finish_reason': 'stop', 'logprobs': None}, id='run-2a60594f-97c5-4491-aa69-79d9a349a54a-0', usage_metadata={'input_tokens': 55, 'output_tokens': 5, 'total_tokens': 60})"
      ]
     },
     "execution_count": 15,
     "metadata": {},
     "output_type": "execute_result"
    }
   ],
   "source": [
    "messages = [\n",
    "    (\n",
    "        \"system\",\n",
    "        \"You are a helpful assistant that translates English to French. Translate the user sentence.\",\n",
    "    ),\n",
    "    (\"human\", \"I love programming.\"),\n",
    "]\n",
    "ai_msg = llm.invoke(messages)\n",
    "ai_msg"
   ]
  },
  {
   "cell_type": "code",
   "execution_count": 16,
   "metadata": {},
   "outputs": [
    {
     "name": "stdout",
     "output_type": "stream",
     "text": [
      "Ich liebe Programmieren.\n"
     ]
    }
   ],
   "source": [
    "from langchain_core.prompts import ChatPromptTemplate\n",
    "\n",
    "prompt = ChatPromptTemplate.from_messages(\n",
    "    messages=[\n",
    "        (\n",
    "            \"system\",\n",
    "            \"You are a helpful assistant that translates {input_language} to {output_language}.\",\n",
    "        ),\n",
    "        (\"human\", \"{input}\"),\n",
    "    ]\n",
    ")\n",
    "\n",
    "chain = prompt | llm\n",
    "response = chain.invoke(\n",
    "    {\n",
    "        \"input_language\": \"English\",\n",
    "        \"output_language\": \"German\",\n",
    "        \"input\": \"I love programming.\",\n",
    "    }\n",
    ")\n",
    "\n",
    "print(response.content)"
   ]
  },
  {
   "cell_type": "code",
   "execution_count": 36,
   "metadata": {},
   "outputs": [],
   "source": [
    "def get_chatbot_response(model_name,messages,temperature=0):\n",
    "    input_messages = []\n",
    "    for message in messages:\n",
    "        input_messages.append(message)\n",
    "    \n",
    "    llm = ChatGroq(\n",
    "        model=os.getenv(\"MODEL_NAME\",model_name) ,\n",
    "        temperature=temperature,\n",
    "        max_tokens=2000,\n",
    "        timeout=None,\n",
    "        max_retries=2,\n",
    "    )\n",
    "    \n",
    "    response = llm.invoke(input_messages)\n",
    "    \n",
    "    return response.content\n",
    "    \n",
    "    \n",
    "    "
   ]
  },
  {
   "cell_type": "markdown",
   "metadata": {},
   "source": [
    "## LLM Answer Generation"
   ]
  },
  {
   "cell_type": "code",
   "execution_count": null,
   "metadata": {},
   "outputs": [
    {
     "name": "stdout",
     "output_type": "stream",
     "text": [
      "[('system', 'what is the capital of germany'), ('system', 'what is the capital of france?')]\n",
      "content='The capital of Germany is Berlin.\\nThe capital of France is Paris.' additional_kwargs={} response_metadata={'token_usage': {'completion_tokens': 15, 'prompt_tokens': 44, 'total_tokens': 59, 'completion_time': 0.02, 'prompt_time': 0.009101247, 'queue_time': 0.005340892999999999, 'total_time': 0.029101247}, 'model_name': 'llama-3.1-8b-instant', 'system_fingerprint': 'fp_9cb648b966', 'finish_reason': 'stop', 'logprobs': None} id='run-4e310a21-7e16-41af-8b9a-3b7df503d3ad-0' usage_metadata={'input_tokens': 44, 'output_tokens': 15, 'total_tokens': 59}\n"
     ]
    },
    {
     "data": {
      "text/plain": [
       "'The capital of Germany is Berlin.\\nThe capital of France is Paris.'"
      ]
     },
     "execution_count": 33,
     "metadata": {},
     "output_type": "execute_result"
    }
   ],
   "source": [
    "messages = [(\"system\",\"what is the capital of germany\")]\n",
    "answer = get_chatbot_response(model_name=os.getenv(\"MODEL_NAME\"),messages=messages)\n",
    "\n",
    "answer"
   ]
  },
  {
   "cell_type": "markdown",
   "metadata": {},
   "source": [
    "## Structured Output"
   ]
  },
  {
   "cell_type": "code",
   "execution_count": 37,
   "metadata": {},
   "outputs": [
    {
     "name": "stdout",
     "output_type": "stream",
     "text": [
      "[\n",
      "    {\n",
      "        \"country\": \"France\",\n",
      "        \"capital\": \"Paris\"\n",
      "    }\n",
      "]\n"
     ]
    }
   ],
   "source": [
    "system_prompt = \"\"\"\n",
    "    You are a helpfull assistant the answer the questions about capitals of countries.\n",
    "    \n",
    "    Your output should be in a structured json format exactly like the one below.You are not allowed to write anything other than the json object.\n",
    "    \n",
    "    [\n",
    "        {\n",
    "            \"country\":the country that you will get the acapital of,\n",
    "            \"capital\":the capital of the country stated\n",
    "        }\n",
    "    ]\n",
    "\n",
    "\"\"\"\n",
    "\n",
    "\n",
    "messages = [(\"system\",system_prompt)]\n",
    "messages.append((\"human\",\"what is the capital of Germany\"))\n",
    "messages.append((\"human\",\"what is the capital of France\"))\n",
    "\n",
    "answer = get_chatbot_response(model_name=os.getenv(\"MODEL_NAME\"),messages=messages)\n",
    "\n",
    "print(answer)"
   ]
  },
  {
   "cell_type": "code",
   "execution_count": 42,
   "metadata": {},
   "outputs": [
    {
     "data": {
      "text/plain": [
       "'Paris'"
      ]
     },
     "execution_count": 42,
     "metadata": {},
     "output_type": "execute_result"
    }
   ],
   "source": [
    "json_response = json.loads(answer)\n",
    "json_response[0]['capital']"
   ]
  },
  {
   "cell_type": "markdown",
   "metadata": {},
   "source": [
    "## Input Structuring"
   ]
  },
  {
   "cell_type": "code",
   "execution_count": 43,
   "metadata": {},
   "outputs": [
    {
     "name": "stdout",
     "output_type": "stream",
     "text": [
      "[\n",
      "    {\n",
      "        \"country\": \"Italy\",\n",
      "        \"capital\": \"Rome\"\n",
      "    },\n",
      "    {\n",
      "        \"country\": \"Germany\",\n",
      "        \"capital\": \"Berlin\"\n",
      "    },\n",
      "    {\n",
      "        \"country\": \"France\",\n",
      "        \"capital\": \"Paris\"\n",
      "    }\n",
      "]\n"
     ]
    }
   ],
   "source": [
    "user_input =\"\"\"\n",
    "    Get me the capitals of the following countries:\n",
    "    '''\n",
    "    1.Italy\n",
    "    2.Germany\n",
    "    3.France\n",
    "    '''\n",
    "\"\"\"\n",
    "\n",
    "messages = [(\"system\",system_prompt)]\n",
    "messages.append((\"human\",user_input))\n",
    "\n",
    "response = get_chatbot_response(model_name=os.getenv(\"MODEL_NAME\"),messages=messages)\n",
    "print(response)"
   ]
  },
  {
   "cell_type": "markdown",
   "metadata": {},
   "source": [
    "### Chain of thought"
   ]
  },
  {
   "cell_type": "code",
   "execution_count": 50,
   "metadata": {},
   "outputs": [
    {
     "data": {
      "text/plain": [
       "-367950.0"
      ]
     },
     "execution_count": 50,
     "metadata": {},
     "output_type": "execute_result"
    }
   ],
   "source": [
    "234*45/3*342-4546*345"
   ]
  },
  {
   "cell_type": "code",
   "execution_count": 55,
   "metadata": {},
   "outputs": [
    {
     "name": "stdout",
     "output_type": "stream",
     "text": [
      "{\n",
      "    \"steps\": \"First, we multiply 234 and 45: 234 * 45 = 10530. Then we divide the result by 3: 10530 / 3 = 3510. Next, we multiply 3510 by 342: 3510 * 342 = 1,203,420. After that, we multiply 4546 by 345: 4546 * 345 = 1,570,710. Finally, we subtract 1,570,710 from 1,203,420: 1,203,420 - 1,570,710 = -367,290.\",\n",
      "    \"result\": -367290\n",
      "}\n"
     ]
    }
   ],
   "source": [
    "user_prompt = \"\"\"\n",
    "    Calculate/solve the equation and give the final result : 234*45/3*342-4546*345\n",
    "    \n",
    "    Your output should be in a structured json format exactly like the one below.You are not allowed to write anything other than the json object.\n",
    "    \n",
    "    {\n",
    "        \"steps\":This is where you solve the equation bit by bit.You need to show your calculation for every step.Use BEDMAS rule.Feel free to write this in free text.\n",
    "        \"result\":The final number resulted from calculating the equation given.\n",
    "    }\n",
    "    \n",
    "\"\"\"\n",
    "\n",
    "messages=[(\"human\",user_prompt)]\n",
    "response = get_chatbot_response(model_name=os.getenv(\"MODEL_NAME\"),messages=messages)\n",
    "\n",
    "print(response)"
   ]
  },
  {
   "cell_type": "markdown",
   "metadata": {},
   "source": [
    "## RAG - Retireval Augmented Generation"
   ]
  },
  {
   "cell_type": "code",
   "execution_count": 56,
   "metadata": {},
   "outputs": [
    {
     "name": "stdout",
     "output_type": "stream",
     "text": [
      "Since the iPhone 16 has not been officially announced by Apple, I'll provide you with some rumored features and speculations based on industry trends and leaks. Keep in mind that these are not confirmed and may change when the actual device is released.\n",
      "\n",
      "**Rumored Features:**\n",
      "\n",
      "1. **Design:** The iPhone 16 is expected to have a similar design to the iPhone 15, with a stainless steel frame and a tougher glass back. However, some rumors suggest that it might have a slightly smaller notch or even a notchless design.\n",
      "2. **Display:** The iPhone 16 is expected to feature a higher refresh rate display, possibly up to 120Hz or even 144Hz. This would provide a smoother and more responsive user experience.\n",
      "3. **Camera:** The iPhone 16 is rumored to have a new periscope lens, which would allow for better zoom capabilities and a wider-angle lens. It might also feature a new telephoto lens with a longer focal length.\n",
      "4. **Battery Life:** The iPhone 16 is expected to have a larger battery, which would provide longer battery life and faster charging capabilities.\n",
      "5. **Charging:** The iPhone 16 is rumored to support faster charging speeds, possibly up to 30W or even 45W.\n",
      "6. **Biometric Security:** The iPhone 16 is expected to feature an improved Face ID system, possibly with a faster and more secure authentication process.\n",
      "7. **5G:** The iPhone 16 is expected to support the latest 5G networks, including mmWave and sub-6 GHz frequencies.\n",
      "8. **Storage:** The iPhone 16 is rumored to have a higher storage capacity, possibly up to 1TB or even 2TB.\n",
      "9. **Colors:** The iPhone 16 is expected to come in new color options, possibly including a new \"Aurora\" color.\n",
      "\n",
      "**Speculations:**\n",
      "\n",
      "1. **Under-Display Camera:** Some rumors suggest that the iPhone 16 might feature an under-display camera, which would allow for a notchless design and a more immersive user experience.\n",
      "2. **Foldable Display:** There are rumors that Apple is working on a foldable iPhone, which could be released in the future. However, this is still speculation and not confirmed.\n",
      "3. **Improved Water Resistance:** The iPhone 16 is expected to have improved water resistance, possibly with a higher IP rating.\n",
      "\n",
      "Please note that these are just rumors and speculations, and the actual features and specifications of the iPhone 16 will be announced by Apple when the device is released.\n"
     ]
    }
   ],
   "source": [
    "user_prompt = \"\"\"\n",
    "    What's new in iphone 16?\n",
    "    \n",
    "\"\"\"\n",
    "\n",
    "messages=[(\"human\",user_prompt)]\n",
    "response = get_chatbot_response(model_name=os.getenv(\"MODEL_NAME\"),messages=messages)\n",
    "\n",
    "print(response)"
   ]
  },
  {
   "cell_type": "code",
   "execution_count": 57,
   "metadata": {},
   "outputs": [],
   "source": [
    "iphone_16 = \"\"\"\n",
    "The iPhone 16 introduces several exciting updates, making it one of Apple's most advanced smartphones to date. It features a larger 6.1-inch display for the base model and a 6.7-inch screen for the iPhone 16 Plus, with thinner bezels and a more durable Ceramic Shield. The iPhone 16 Pro and Pro Max boast even larger displays, measuring 6.3 and 6.9 inches respectively, offering the thinnest bezels seen on any Apple product so far.\n",
    "\n",
    "Powered by the new A18 chip (A18 Pro for the Pro models), these phones deliver significant performance improvements, with enhanced neural engine capabilities, faster GPU for gaming, and machine learning tasks. The camera systems are also upgraded, with the base iPhone 16 sporting a dual-camera setup with a 48MP main sensor. The Pro models offer a 48MP Ultra Wide and 5x telephoto camera, enhanced by Apple’s \"Camera Control\" button for more flexible photography options.\n",
    "\n",
    "Apple also introduced advanced audio features like \"Audio Mix,\" which uses machine learning to separate background sounds from speech, allowing for more refined audio capture during video recording. Battery life has been extended, especially in the iPhone 16 Pro Max, which is claimed to have the longest-lasting battery of any iPhone \n",
    "9TO5MAC\n",
    "\n",
    "APPLEMAGAZINE\n",
    ".\n",
    "\n",
    "Additionally, Apple has switched to USB-C for faster charging and data transfer, and the Pro models now support up to 2x faster video encoding. The starting prices remain consistent with previous generations, with the iPhone 16 starting at $799, while the Pro models start at $999\n",
    "\"\"\"\n"
   ]
  },
  {
   "cell_type": "code",
   "execution_count": 58,
   "metadata": {},
   "outputs": [
    {
     "name": "stdout",
     "output_type": "stream",
     "text": [
      "According to the provided information, the new features and updates in the iPhone 16 include:\n",
      "\n",
      "1. Larger display sizes:\n",
      "   - Base model: 6.1-inch display\n",
      "   - iPhone 16 Plus: 6.7-inch display\n",
      "   - iPhone 16 Pro: 6.3-inch display\n",
      "   - iPhone 16 Pro Max: 6.9-inch display\n",
      "\n",
      "2. Thinner bezels and a more durable Ceramic Shield.\n",
      "\n",
      "3. Upgraded A18 chip (A18 Pro for Pro models) for improved performance, including:\n",
      "   - Enhanced neural engine capabilities\n",
      "   - Faster GPU for gaming\n",
      "   - Machine learning tasks\n",
      "\n",
      "4. Upgraded camera systems:\n",
      "   - Base iPhone 16: Dual-camera setup with a 48MP main sensor\n",
      "   - Pro models: 48MP Ultra Wide and 5x telephoto camera, with Apple's \"Camera Control\" button for more flexible photography options.\n",
      "\n",
      "5. Advanced audio features:\n",
      "   - \"Audio Mix\" for refined audio capture during video recording\n",
      "\n",
      "6. Extended battery life, especially in the iPhone 16 Pro Max.\n",
      "\n",
      "7. Switch to USB-C for faster charging and data transfer.\n",
      "\n",
      "8. Support for up to 2x faster video encoding in Pro models.\n",
      "\n",
      "9. Starting prices remain consistent with previous generations:\n",
      "   - iPhone 16: Starting at $799\n",
      "   - Pro models: Starting at $999\n"
     ]
    }
   ],
   "source": [
    "user_prompt = f\"\"\"\n",
    "    {iphone_16}\n",
    "    What's new in iphone 16?\n",
    "    \n",
    "\"\"\"\n",
    "\n",
    "messages=[(\"human\",user_prompt)]\n",
    "response = get_chatbot_response(model_name=os.getenv(\"MODEL_NAME\"),messages=messages)\n",
    "\n",
    "print(response)"
   ]
  },
  {
   "cell_type": "code",
   "execution_count": 59,
   "metadata": {},
   "outputs": [],
   "source": [
    "samsung_s23 = \"\"\"\n",
    "The Samsung Galaxy S23 brings some incremental but notable upgrades to its predecessor, the Galaxy S22. It features the Snapdragon 8 Gen 2 processor, a powerful chip optimized for the S23 series, delivering enhanced performance, especially for gaming and multitasking. This chip ensures top-tier speed and efficiency across all models, from the base S23 to the larger S23+ and S23 Ultra​\n",
    "STUFF\n",
    "\n",
    "TECHRADAR\n",
    ".\n",
    "\n",
    "In terms of design, the S23's camera module has been streamlined by removing the raised metal contour around the cameras, creating a cleaner, sleeker look. It also sports the same 6.1-inch 120Hz AMOLED display, protected by tougher Gorilla Glass Victus 2, making it more resistant to scratches and drops​\n",
    "TECHRADAR\n",
    ".\n",
    "\n",
    "The S23 Ultra stands out with its 200MP main camera, offering impressive photo clarity, especially in low-light conditions. The selfie camera across the series has been updated to a 12MP sensor, resulting in sharper selfies. The Ultra model also includes productivity tools such as the S-Pen, which remains an essential feature for note-taking and creative tasks​\n",
    "STUFF\n",
    "\n",
    "TECHRADAR\n",
    ".\n",
    "\n",
    "Battery life is solid, with the S23 Ultra featuring a 5000mAh battery that lasts comfortably through a day of heavy use. However, charging speeds still lag behind some competitors, with 45W wired charging, which is slower than other brands offering up to 125W charging​\n",
    "STUFF\n",
    ".\n",
    "\n",
    "Overall, the Galaxy S23 series enhances performance, durability, and camera quality, making it a strong contender for users seeking a high-performance flagship.\n",
    "\"\"\""
   ]
  },
  {
   "cell_type": "code",
   "execution_count": 60,
   "metadata": {},
   "outputs": [],
   "source": [
    "\n",
    "data = [iphone_16,samsung_s23]"
   ]
  },
  {
   "cell_type": "code",
   "execution_count": 61,
   "metadata": {},
   "outputs": [],
   "source": [
    "\n",
    "user_prompt = \"\"\"What's new in iphone 16?\"\"\""
   ]
  },
  {
   "cell_type": "code",
   "execution_count": null,
   "metadata": {},
   "outputs": [
    {
     "name": "stderr",
     "output_type": "stream",
     "text": [
      "d:\\Anaconda\\envs\\llmenv\\lib\\site-packages\\huggingface_hub\\file_download.py:797: FutureWarning: `resume_download` is deprecated and will be removed in version 1.0.0. Downloads always resume when possible. If you want to force a new download, use `force_download=True`.\n",
      "  warnings.warn(\n"
     ]
    }
   ],
   "source": [
    "\n",
    "\n",
    "def get_embeddings(texts:List[str]):\n",
    "    embedding_model_name = \"BAAI/bge-small-en-v1.5\"\n",
    "    model_kwargs = {'device': 'cpu'}\n",
    "    encode_kwargs = {'normalize_embeddings': True}\n",
    "    hf_embeddings = HuggingFaceBgeEmbeddings(\n",
    "        model_name=os.getenv(\"EMBEDDINGS_MODEL_NAME\",embedding_model_name),\n",
    "        model_kwargs=model_kwargs,\n",
    "        encode_kwargs=encode_kwargs,\n",
    "        cache_folder = os.getenv(\"SENTENCE_TRANSFORMERS_HOME\")\n",
    "    )\n",
    "    embeddings_output = hf_embeddings.embed_documents(texts=texts)\n",
    "    \n",
    "    return embeddings_output\n",
    "        \n",
    "    \n",
    "    \n",
    "\n",
    "\n"
   ]
  },
  {
   "cell_type": "code",
   "execution_count": 77,
   "metadata": {},
   "outputs": [],
   "source": [
    "user_prompt_embedding = get_embeddings(texts=[user_prompt])"
   ]
  },
  {
   "cell_type": "code",
   "execution_count": 78,
   "metadata": {},
   "outputs": [
    {
     "data": {
      "text/plain": [
       "1"
      ]
     },
     "execution_count": 78,
     "metadata": {},
     "output_type": "execute_result"
    }
   ],
   "source": [
    "len(user_prompt_embedding)"
   ]
  },
  {
   "cell_type": "code",
   "execution_count": 79,
   "metadata": {},
   "outputs": [],
   "source": [
    "data_embeddings = get_embeddings(texts=data)"
   ]
  },
  {
   "cell_type": "code",
   "execution_count": 1,
   "metadata": {},
   "outputs": [
    {
     "ename": "NameError",
     "evalue": "name 'data_embeddings' is not defined",
     "output_type": "error",
     "traceback": [
      "\u001b[1;31m---------------------------------------------------------------------------\u001b[0m",
      "\u001b[1;31mNameError\u001b[0m                                 Traceback (most recent call last)",
      "Cell \u001b[1;32mIn[1], line 1\u001b[0m\n\u001b[1;32m----> 1\u001b[0m \u001b[38;5;28mlen\u001b[39m(\u001b[43mdata_embeddings\u001b[49m[\u001b[38;5;241m0\u001b[39m])\n",
      "\u001b[1;31mNameError\u001b[0m: name 'data_embeddings' is not defined"
     ]
    }
   ],
   "source": [
    "len(data_embeddings[0]) "
   ]
  },
  {
   "cell_type": "code",
   "execution_count": 82,
   "metadata": {},
   "outputs": [],
   "source": [
    "data_similarity_scores = cosine_similarity(user_prompt_embedding,data_embeddings)"
   ]
  },
  {
   "cell_type": "code",
   "execution_count": 84,
   "metadata": {},
   "outputs": [
    {
     "data": {
      "text/plain": [
       "array([[0.71307909, 0.46981073]])"
      ]
     },
     "execution_count": 84,
     "metadata": {},
     "output_type": "execute_result"
    }
   ],
   "source": [
    "data_similarity_scores"
   ]
  },
  {
   "cell_type": "code",
   "execution_count": 85,
   "metadata": {},
   "outputs": [
    {
     "data": {
      "text/plain": [
       "0"
      ]
     },
     "execution_count": 85,
     "metadata": {},
     "output_type": "execute_result"
    }
   ],
   "source": [
    "closest_entry_index=data_similarity_scores.argmax()\n",
    "closest_entry_index"
   ]
  },
  {
   "cell_type": "code",
   "execution_count": 86,
   "metadata": {},
   "outputs": [
    {
     "data": {
      "text/plain": [
       "'\\nThe iPhone 16 introduces several exciting updates, making it one of Apple\\'s most advanced smartphones to date. It features a larger 6.1-inch display for the base model and a 6.7-inch screen for the iPhone 16 Plus, with thinner bezels and a more durable Ceramic Shield. The iPhone 16 Pro and Pro Max boast even larger displays, measuring 6.3 and 6.9 inches respectively, offering the thinnest bezels seen on any Apple product so far.\\n\\nPowered by the new A18 chip (A18 Pro for the Pro models), these phones deliver significant performance improvements, with enhanced neural engine capabilities, faster GPU for gaming, and machine learning tasks. The camera systems are also upgraded, with the base iPhone 16 sporting a dual-camera setup with a 48MP main sensor. The Pro models offer a 48MP Ultra Wide and 5x telephoto camera, enhanced by Apple’s \"Camera Control\" button for more flexible photography options.\\n\\nApple also introduced advanced audio features like \"Audio Mix,\" which uses machine learning to separate background sounds from speech, allowing for more refined audio capture during video recording. Battery life has been extended, especially in the iPhone 16 Pro Max, which is claimed to have the longest-lasting battery of any iPhone \\n9TO5MAC\\n\\nAPPLEMAGAZINE\\n.\\n\\nAdditionally, Apple has switched to USB-C for faster charging and data transfer, and the Pro models now support up to 2x faster video encoding. The starting prices remain consistent with previous generations, with the iPhone 16 starting at $799, while the Pro models start at $999\\n'"
      ]
     },
     "execution_count": 86,
     "metadata": {},
     "output_type": "execute_result"
    }
   ],
   "source": [
    "data[closest_entry_index]"
   ]
  },
  {
   "cell_type": "code",
   "execution_count": null,
   "metadata": {},
   "outputs": [],
   "source": []
  },
  {
   "cell_type": "code",
   "execution_count": null,
   "metadata": {},
   "outputs": [],
   "source": []
  }
 ],
 "metadata": {
  "kernelspec": {
   "display_name": "llmenv",
   "language": "python",
   "name": "python3"
  },
  "language_info": {
   "codemirror_mode": {
    "name": "ipython",
    "version": 3
   },
   "file_extension": ".py",
   "mimetype": "text/x-python",
   "name": "python",
   "nbconvert_exporter": "python",
   "pygments_lexer": "ipython3",
   "version": "3.9.19"
  }
 },
 "nbformat": 4,
 "nbformat_minor": 2
}
