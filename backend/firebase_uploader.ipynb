{
 "cells": [
  {
   "cell_type": "code",
   "execution_count": 1,
   "metadata": {},
   "outputs": [
    {
     "data": {
      "text/plain": [
       "True"
      ]
     },
     "execution_count": 1,
     "metadata": {},
     "output_type": "execute_result"
    }
   ],
   "source": [
    "import firebase_admin\n",
    "from firebase_admin import credentials,storage\n",
    "from firebase_admin import db\n",
    "import pandas as pd \n",
    "import os \n",
    "import dotenv \n",
    "dotenv.load_dotenv()"
   ]
  },
  {
   "cell_type": "markdown",
   "metadata": {},
   "source": [
    "### FireBase Init"
   ]
  },
  {
   "cell_type": "code",
   "execution_count": 3,
   "metadata": {},
   "outputs": [],
   "source": [
    "service_account_info ={\n",
    "    \"type\": os.getenv(\"FIREBASE_TYPE\"),\n",
    "    \"project_id\": os.getenv(\"FIREBASE_PROJECT_ID\"),\n",
    "    \"private_key_id\": os.getenv(\"FIREBASE_PRIVATE_KEY_ID\"),\n",
    "    \"private_key\": os.getenv(\"FIREBASE_PRIVATE_KEY\"),\n",
    "    \"client_email\": os.getenv(\"FIREBASE_CLIENT_EMAIL\"),\n",
    "    \"client_id\": os.getenv(\"FIREBASE_CLIENT_ID\"),\n",
    "    \"auth_uri\": os.getenv(\"FIREBASE_AUTH_URI\"),\n",
    "    \"token_uri\": os.getenv(\"FIREBASE_TOKEN_URL\"),\n",
    "    \"auth_provider_x509_cert_url\":os.getenv(\"FIREBASE_AUTH_PROVIDER_CERT_URL\"),\n",
    "    \"client_x509_cert_url\": os.getenv(\"FIREBASE_CLEINT_CERT_URL\"),\n",
    "    \"universe_domain\":os.getenv(\"FIREBASE_UNIVERSE_DOMAIN\"),\n",
    "}\n"
   ]
  },
  {
   "cell_type": "code",
   "execution_count": 4,
   "metadata": {},
   "outputs": [
    {
     "data": {
      "text/plain": [
       "<firebase_admin.App at 0x155b2558ee0>"
      ]
     },
     "execution_count": 4,
     "metadata": {},
     "output_type": "execute_result"
    }
   ],
   "source": [
    "cred = credentials.Certificate(service_account_info)\n",
    "firebase_admin.initialize_app(cred,{\n",
    "    'storageBucket':'whatsup-fd5fa.appspot.com',\n",
    "    'databaseURL':'https://whatsup-fd5fa-default-rtdb.firebaseio.com/'\n",
    "        \n",
    "})"
   ]
  },
  {
   "cell_type": "code",
   "execution_count": 5,
   "metadata": {},
   "outputs": [],
   "source": [
    "bucket = storage.bucket()"
   ]
  },
  {
   "cell_type": "markdown",
   "metadata": {},
   "source": [
    "### Upload Data"
   ]
  },
  {
   "cell_type": "code",
   "execution_count": 6,
   "metadata": {},
   "outputs": [],
   "source": [
    "image_folfer_path ='./products/Images'"
   ]
  },
  {
   "cell_type": "code",
   "execution_count": 7,
   "metadata": {},
   "outputs": [],
   "source": [
    "products_collections = db.reference('products')"
   ]
  },
  {
   "cell_type": "code",
   "execution_count": 8,
   "metadata": {},
   "outputs": [
    {
     "data": {
      "text/html": [
       "<div>\n",
       "<style scoped>\n",
       "    .dataframe tbody tr th:only-of-type {\n",
       "        vertical-align: middle;\n",
       "    }\n",
       "\n",
       "    .dataframe tbody tr th {\n",
       "        vertical-align: top;\n",
       "    }\n",
       "\n",
       "    .dataframe thead th {\n",
       "        text-align: right;\n",
       "    }\n",
       "</style>\n",
       "<table border=\"1\" class=\"dataframe\">\n",
       "  <thead>\n",
       "    <tr style=\"text-align: right;\">\n",
       "      <th></th>\n",
       "      <th>name</th>\n",
       "      <th>category</th>\n",
       "      <th>description</th>\n",
       "      <th>ingredients</th>\n",
       "      <th>price</th>\n",
       "      <th>rating</th>\n",
       "      <th>image_path</th>\n",
       "    </tr>\n",
       "  </thead>\n",
       "  <tbody>\n",
       "    <tr>\n",
       "      <th>0</th>\n",
       "      <td>Cappuccino</td>\n",
       "      <td>Coffee</td>\n",
       "      <td>A rich and creamy cappuccino made with freshly...</td>\n",
       "      <td>[Espresso, Steamed Milk, Milk Foam]</td>\n",
       "      <td>4.50</td>\n",
       "      <td>4.7</td>\n",
       "      <td>cappuccino.jpg</td>\n",
       "    </tr>\n",
       "    <tr>\n",
       "      <th>1</th>\n",
       "      <td>Jumbo Savory Scone</td>\n",
       "      <td>Bakery</td>\n",
       "      <td>Deliciously flaky and buttery, this jumbo savo...</td>\n",
       "      <td>[Flour, Butter, Cheese, Herbs, Baking Powder, ...</td>\n",
       "      <td>3.25</td>\n",
       "      <td>4.3</td>\n",
       "      <td>SavoryScone.webp</td>\n",
       "    </tr>\n",
       "  </tbody>\n",
       "</table>\n",
       "</div>"
      ],
      "text/plain": [
       "                 name category  \\\n",
       "0          Cappuccino   Coffee   \n",
       "1  Jumbo Savory Scone   Bakery   \n",
       "\n",
       "                                         description  \\\n",
       "0  A rich and creamy cappuccino made with freshly...   \n",
       "1  Deliciously flaky and buttery, this jumbo savo...   \n",
       "\n",
       "                                         ingredients  price  rating  \\\n",
       "0                [Espresso, Steamed Milk, Milk Foam]   4.50     4.7   \n",
       "1  [Flour, Butter, Cheese, Herbs, Baking Powder, ...   3.25     4.3   \n",
       "\n",
       "         image_path  \n",
       "0    cappuccino.jpg  \n",
       "1  SavoryScone.webp  "
      ]
     },
     "execution_count": 8,
     "metadata": {},
     "output_type": "execute_result"
    }
   ],
   "source": [
    "df = pd.read_json('./products/products.jsonl',lines=True)\n",
    "df.head(2)"
   ]
  },
  {
   "cell_type": "code",
   "execution_count": 9,
   "metadata": {},
   "outputs": [],
   "source": [
    "def upload_image(bucket,image_path):\n",
    "    image_name = str(image_path).split('/')[-1].split(\"\\\\\")[-1]\n",
    "    print(image_name)\n",
    "    blob = bucket.blob(f'product_images/{image_name}')\n",
    "    blob.upload_from_filename(image_path)\n",
    "    blob.make_public()\n",
    "    return blob.public_url"
   ]
  },
  {
   "cell_type": "code",
   "execution_count": null,
   "metadata": {},
   "outputs": [
    {
     "name": "stdout",
     "output_type": "stream",
     "text": [
      "0 Cappuccino\n",
      "./products/Images\\cappuccino.jpg\n",
      "cappuccino.jpg\n",
      "1 Jumbo Savory Scone\n",
      "./products/Images\\SavoryScone.webp\n",
      "SavoryScone.webp\n",
      "2 Latte\n",
      "./products/Images\\Latte.jpg\n",
      "Latte.jpg\n",
      "3 Chocolate Chip Biscotti\n",
      "./products/Images\\chocolat_biscotti.jpg\n",
      "chocolat_biscotti.jpg\n",
      "4 Espresso shot\n",
      "./products/Images\\Espresso_shot.webp\n",
      "Espresso_shot.webp\n",
      "5 Hazelnut Biscotti\n",
      "./products/Images\\Hazelnut_Biscotti.jpg\n",
      "Hazelnut_Biscotti.jpg\n",
      "6 Chocolate Croissant\n",
      "./products/Images\\Chocolate_Croissant.jpg\n",
      "Chocolate_Croissant.jpg\n",
      "7 Dark chocolate\n",
      "./products/Images\\Dark_chocolate.jpg\n",
      "Dark_chocolate.jpg\n",
      "8 Cranberry Scone\n",
      "./products/Images\\Cranberry_Scone.jpg\n",
      "Cranberry_Scone.jpg\n",
      "9 Croissant\n",
      "./products/Images\\Croissant.jpg\n",
      "Croissant.jpg\n",
      "10 Almond Croissant\n",
      "./products/Images\\almond_croissant.jpg\n",
      "almond_croissant.jpg\n",
      "11 Ginger Biscotti\n",
      "./products/Images\\Ginger_Biscotti.webp\n",
      "Ginger_Biscotti.webp\n",
      "12 Oatmeal Scone\n",
      "./products/Images\\oatmeal_scones.jpg\n",
      "oatmeal_scones.jpg\n",
      "13 Ginger Scone\n",
      "./products/Images\\Ginger_Scone.webp\n",
      "Ginger_Scone.webp\n",
      "14 Chocolate syrup\n",
      "./products/Images\\Chocolate_syrup.jpg\n",
      "Chocolate_syrup.jpg\n",
      "15 Hazelnut syrup\n",
      "./products/Images\\Hazelnut_syrup.webp\n",
      "Hazelnut_syrup.webp\n",
      "16 Carmel syrup\n",
      "./products/Images\\caramel_syrup.jpg\n",
      "caramel_syrup.jpg\n",
      "17 Sugar Free Vanilla syrup\n",
      "./products/Images\\Vanilla_syrup.jpg\n",
      "Vanilla_syrup.jpg\n"
     ]
    }
   ],
   "source": [
    "for index, row in df.iterrows():\n",
    "    print(index, row['name'])\n",
    "    \n",
    "    image_path = os.path.join(image_folfer_path,row['image_path'])\n",
    "    print(image_path)\n",
    "    image_url = upload_image(bucket,image_path)\n",
    "    \n",
    "    product_data = row.to_dict()\n",
    "    product_data.pop('image_path')\n",
    "    product_data['image_url']= image_url\n",
    "    \n",
    "    # Add to Firestore\n",
    "    products_collections.push().set(product_data)"
   ]
  },
  {
   "cell_type": "code",
   "execution_count": null,
   "metadata": {},
   "outputs": [],
   "source": []
  },
  {
   "cell_type": "code",
   "execution_count": null,
   "metadata": {},
   "outputs": [],
   "source": []
  }
 ],
 "metadata": {
  "kernelspec": {
   "display_name": "llmenv",
   "language": "python",
   "name": "python3"
  },
  "language_info": {
   "codemirror_mode": {
    "name": "ipython",
    "version": 3
   },
   "file_extension": ".py",
   "mimetype": "text/x-python",
   "name": "python",
   "nbconvert_exporter": "python",
   "pygments_lexer": "ipython3",
   "version": "3.9.19"
  }
 },
 "nbformat": 4,
 "nbformat_minor": 2
}
